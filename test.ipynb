{
 "cells": [
  {
   "cell_type": "code",
   "execution_count": 1,
   "metadata": {},
   "outputs": [
    {
     "name": "stdout",
     "output_type": "stream",
     "text": [
      "Note: you may need to restart the kernel to use updated packages.\n"
     ]
    },
    {
     "name": "stderr",
     "output_type": "stream",
     "text": [
      "ERROR: Could not find a version that satisfies the requirement shutil (from versions: none)\n",
      "ERROR: No matching distribution found for shutil\n"
     ]
    }
   ],
   "source": [
    "pip install shutil\n"
   ]
  },
  {
   "cell_type": "code",
   "execution_count": 7,
   "metadata": {},
   "outputs": [],
   "source": [
    "import os\n",
    "import random\n",
    "import shutil\n",
    "\n",
    "def pick_sample_images(src_dir, dest_dir, sample_size):\n",
    "    # Ensure the source directory exists\n",
    "    if not os.path.exists(src_dir):\n",
    "        raise ValueError(f\"Source directory {src_dir} does not exist\")\n",
    "\n",
    "    # Create destination directory if it does not exist\n",
    "    os.makedirs(dest_dir, exist_ok=True)\n",
    "\n",
    "    # Get list of all files in the source directory\n",
    "    all_files = [f for f in os.listdir(src_dir) if os.path.isfile(os.path.join(src_dir, f))]\n",
    "\n",
    "    # Check if the sample size is greater than the number of available files\n",
    "    if sample_size > len(all_files):\n",
    "        raise ValueError(f\"Sample size {sample_size} is greater than the number of available files {len(all_files)}\")\n",
    "\n",
    "    # Perform multiple shuffles to increase randomness\n",
    "    for _ in range(5):\n",
    "        random.shuffle(all_files)\n",
    "\n",
    "    # Split the files into chunks and sample from each chunk\n",
    "    chunk_size = len(all_files) // sample_size\n",
    "    sampled_files = []\n",
    "    for i in range(sample_size):\n",
    "        start_idx = i * chunk_size\n",
    "        end_idx = start_idx + chunk_size\n",
    "        chunk = all_files[start_idx:end_idx]\n",
    "        sampled_file = random.choice(chunk)\n",
    "        sampled_files.append(sampled_file)\n",
    "\n",
    "    # Copy sampled files to the destination directory\n",
    "    for file in sampled_files:\n",
    "        src_file_path = os.path.join(src_dir, file)\n",
    "        dest_file_path = os.path.join(dest_dir, file)\n",
    "        shutil.copy2(src_file_path, dest_file_path)\n",
    "\n",
    "    print(f\"Copied {sample_size} images to {dest_dir}\")\n",
    "\n",
    "# # Parameters\n",
    "# source_directory = 'path/to/source_directory'  # Replace with the path to your source directory\n",
    "# destination_directory = 'path/to/destination_directory'  # Replace with the path to your destination directory\n",
    "# sample_size = 3500\n",
    "\n",
    "# # Run the function\n",
    "# pick_sample_images(source_directory, destination_directory, sample_size)\n"
   ]
  },
  {
   "cell_type": "code",
   "execution_count": 8,
   "metadata": {},
   "outputs": [
    {
     "name": "stdout",
     "output_type": "stream",
     "text": [
      "Copied 2000 images to New folder\n"
     ]
    }
   ],
   "source": [
    "pick_sample_images(\"Hands\", \"New folder\", 2000)"
   ]
  },
  {
   "cell_type": "code",
   "execution_count": null,
   "metadata": {},
   "outputs": [],
   "source": []
  }
 ],
 "metadata": {
  "kernelspec": {
   "display_name": "Python 3",
   "language": "python",
   "name": "python3"
  },
  "language_info": {
   "codemirror_mode": {
    "name": "ipython",
    "version": 3
   },
   "file_extension": ".py",
   "mimetype": "text/x-python",
   "name": "python",
   "nbconvert_exporter": "python",
   "pygments_lexer": "ipython3",
   "version": "3.12.3"
  }
 },
 "nbformat": 4,
 "nbformat_minor": 2
}
